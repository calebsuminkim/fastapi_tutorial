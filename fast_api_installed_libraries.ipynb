{
 "cells": [
  {
   "cell_type": "markdown",
   "id": "29d1c68f-abf6-4207-9187-34769aa2605b",
   "metadata": {},
   "source": [
    "### 24년 06월 30일 pip install fastapi설치 당시 함께 설치된 패키지들과 그 버전들"
   ]
  },
  {
   "cell_type": "code",
   "execution_count": 2,
   "id": "862d96cb-5dff-42bf-9106-094759932a8d",
   "metadata": {},
   "outputs": [],
   "source": [
    "lib_str = \"annotated-types-0.7.0 click-8.1.7 dnspython-2.6.1 email_validator-2.2.0 fastapi-0.111.0 fastapi-cli-0.0.4 httptools-0.6.1 markdown-it-py-3.0.0 mdurl-0.1.2 orjson-3.10.5 pydantic-2.7.4 pydantic-core-2.18.4 python-dotenv-1.0.1 python-multipart-0.0.9 rich-13.7.1 shellingham-1.5.4 starlette-0.37.2 typer-0.12.3 ujson-5.10.0 uvicorn-0.30.1 uvloop-0.19.0 watchfiles-0.22.0 websockets-12.0\"\n",
    "lib_lst = lib_str.split(\" \")"
   ]
  },
  {
   "cell_type": "code",
   "execution_count": 3,
   "id": "1a447bba-227c-4d5e-b234-df66294cbc8d",
   "metadata": {},
   "outputs": [
    {
     "data": {
      "text/plain": [
       "['annotated-types-0.7.0',\n",
       " 'click-8.1.7',\n",
       " 'dnspython-2.6.1',\n",
       " 'email_validator-2.2.0',\n",
       " 'fastapi-0.111.0',\n",
       " 'fastapi-cli-0.0.4',\n",
       " 'httptools-0.6.1',\n",
       " 'markdown-it-py-3.0.0',\n",
       " 'mdurl-0.1.2',\n",
       " 'orjson-3.10.5',\n",
       " 'pydantic-2.7.4',\n",
       " 'pydantic-core-2.18.4',\n",
       " 'python-dotenv-1.0.1',\n",
       " 'python-multipart-0.0.9',\n",
       " 'rich-13.7.1',\n",
       " 'shellingham-1.5.4',\n",
       " 'starlette-0.37.2',\n",
       " 'typer-0.12.3',\n",
       " 'ujson-5.10.0',\n",
       " 'uvicorn-0.30.1',\n",
       " 'uvloop-0.19.0',\n",
       " 'watchfiles-0.22.0',\n",
       " 'websockets-12.0']"
      ]
     },
     "execution_count": 3,
     "metadata": {},
     "output_type": "execute_result"
    }
   ],
   "source": [
    "lib_lst"
   ]
  },
  {
   "cell_type": "code",
   "execution_count": null,
   "id": "482d7a14-735c-43ee-92dd-543fab1c4f8f",
   "metadata": {},
   "outputs": [],
   "source": []
  }
 ],
 "metadata": {
  "kernelspec": {
   "display_name": "Python 3 (ipykernel)",
   "language": "python",
   "name": "python3"
  },
  "language_info": {
   "codemirror_mode": {
    "name": "ipython",
    "version": 3
   },
   "file_extension": ".py",
   "mimetype": "text/x-python",
   "name": "python",
   "nbconvert_exporter": "python",
   "pygments_lexer": "ipython3",
   "version": "3.11.8"
  }
 },
 "nbformat": 4,
 "nbformat_minor": 5
}
